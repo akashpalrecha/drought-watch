{
 "cells": [
  {
   "cell_type": "code",
   "execution_count": 1,
   "metadata": {},
   "outputs": [],
   "source": [
    "import wandb\n",
    "from wandb.fastai import WandbCallback"
   ]
  },
  {
   "cell_type": "code",
   "execution_count": 2,
   "metadata": {},
   "outputs": [
    {
     "data": {
      "text/html": [
       "\n",
       "        Notebook configured with <a href=\"https://wandb.com\" target=\"_blank\">W&B</a>. You can <a href=\"https://app.wandb.ai/akashpalrecha/droughtwatch/runs/tk6oegbu\" target=\"_blank\">open</a> the run page, or call <code>%%wandb</code>\n",
       "        in a cell containing your training loop to display live results.  Learn more in our <a href=\"https://docs.wandb.com/docs/integrations/jupyter.html\" target=\"_blank\">docs</a>.\n",
       "    "
      ],
      "text/plain": [
       "<IPython.core.display.HTML object>"
      ]
     },
     "metadata": {},
     "output_type": "display_data"
    },
    {
     "data": {
      "text/plain": [
       "W&B Run: https://app.wandb.ai/akashpalrecha/droughtwatch/runs/tk6oegbu"
      ]
     },
     "execution_count": 2,
     "metadata": {},
     "output_type": "execute_result"
    }
   ],
   "source": [
    "wandb.init(project='droughtwatch', name='first-run')"
   ]
  },
  {
   "cell_type": "code",
   "execution_count": 3,
   "metadata": {},
   "outputs": [],
   "source": [
    "from fastai.vision import *\n",
    "import tifffile"
   ]
  },
  {
   "cell_type": "code",
   "execution_count": 4,
   "metadata": {},
   "outputs": [],
   "source": [
    "import torchvision\n",
    "import torch.nn as nn\n",
    "from functools import partial\n",
    "\n",
    "resnet_models = {18: torchvision.models.resnet18,\n",
    "                 34: torchvision.models.resnet34,\n",
    "                 50: torchvision.models.resnet18,\n",
    "                 101: torchvision.models.resnet101,\n",
    "                 152: torchvision.models.resnet152}\n",
    "\n",
    "class Resnet_multichannel(nn.Module):\n",
    "    def __init__(self, pretrained=True, encoder_depth=34, num_in_channels=4):\n",
    "        super().__init__()\n",
    "        \n",
    "        if encoder_depth not in [18, 34, 50, 101, 152]:\n",
    "            raise ValueError(f\"Encoder depth {encoder_depth} specified does not match any existing Resnet models\")\n",
    "            \n",
    "        model = resnet_models[encoder_depth](pretrained)\n",
    "        \n",
    "        ##For reference: layers to use (in order):\n",
    "        # conv1, bn1, relu, maxpool, layer1, layer2, layer3, layer4, avgpool, fc\n",
    "        \n",
    "        # This is the most important line of code here. This increases the number of in channels for our network\n",
    "        self.conv1 = self.increase_channels(model.conv1, num_in_channels)\n",
    "        \n",
    "        self.bn1 = model.bn1\n",
    "        self.relu = model.relu\n",
    "        self.maxpool = model.maxpool\n",
    "        self.layer1 = model.layer1\n",
    "        self.layer2 = model.layer2\n",
    "        self.layer3 = model.layer3\n",
    "        self.layer4 = model.layer4\n",
    "        self.avgpool = model.avgpool\n",
    "        self.fc = model.fc\n",
    "        \n",
    "    def forward(self, x):\n",
    "        x=x.float()\n",
    "        x = self.conv1(x)\n",
    "        x = self.bn1(x)\n",
    "        x = self.relu(x)\n",
    "        x = self.maxpool(x)\n",
    "        x = self.layer1(x)\n",
    "        x = self.layer2(x)\n",
    "        x = self.layer3(x)\n",
    "        x = self.layer4(x)\n",
    "        \n",
    "        x = self.avgpool(x)\n",
    "        x = x.view(x.size(0), -1)\n",
    "        x = self.fc(x)\n",
    "        \n",
    "        return x\n",
    "        \n",
    "    def increase_channels(self, m, num_channels=None, copy_weights=0):\n",
    "\n",
    "\n",
    "        \"\"\"\n",
    "        takes as input a Conv2d layer and returns the a Conv2d layer with `num_channels` input channels\n",
    "        and all the previous weights copied into the new layer.\n",
    "        \"\"\"\n",
    "        # number of input channels the new module should have\n",
    "        new_in_channels = num_channels if num_channels is not None else m.in_channels + 1\n",
    "        \n",
    "        bias = False if m.bias is None else True\n",
    "        \n",
    "        # Creating new Conv2d layer\n",
    "        new_m = nn.Conv2d(in_channels=new_in_channels, \n",
    "                          out_channels=m.out_channels, \n",
    "                          kernel_size=m.kernel_size, \n",
    "                          stride=m.stride, \n",
    "                          padding=m.padding,\n",
    "                          bias=bias)\n",
    "        \n",
    "        # Copying the weights from the old to the new layer\n",
    "        new_m.weight[:, :m.in_channels, :, :] = m.weight.clone()\n",
    "        \n",
    "        #Copying the weights of the `copy_weights` channel of the old layer to the extra channels of the new layer\n",
    "        for i in range(new_in_channels - m.in_channels):\n",
    "            channel = m.in_channels + i\n",
    "            new_m.weight[:, channel:channel+1, :, :] = m.weight[:, copy_weights:copy_weights+1, : :].clone()\n",
    "        new_m.weight = nn.Parameter(new_m.weight)\n",
    "\n",
    "        return new_m\n",
    "    \n",
    "def get_arch(encoder_depth, num_in_channels):\n",
    "    \"\"\"\n",
    "    Returns just an architecture which can then be called in the usual way.\n",
    "    For example:\n",
    "    resnet34_4_channel = get_arch(34, 4)\n",
    "    model = resnet34_4_channel(True)\n",
    "    \"\"\"\n",
    "    return partial(Resnet_multichannel, encoder_depth=encoder_depth, num_in_channels=num_in_channels)"
   ]
  },
  {
   "cell_type": "code",
   "execution_count": 5,
   "metadata": {},
   "outputs": [],
   "source": [
    "class ImageMultiList(ImageList):\n",
    "    def open(self, fn):\n",
    "        \"Open image in `fn`, subclass and overwrite for custom behavior.\"\n",
    "        img=tifffile.imread(str(fn))\n",
    "        img=Image(img)\n",
    "        return img "
   ]
  },
  {
   "cell_type": "code",
   "execution_count": 6,
   "metadata": {},
   "outputs": [],
   "source": [
    "from pathlib import Path\n",
    "cur=Path.cwd()\n",
    "Images=cur/'11_band_data'\n",
    "class MultiDataBunch(ImageDataBunch):\n",
    "    @classmethod\n",
    "    def from_folder(cls, path:PathOrStr, train:PathOrStr='train', valid:PathOrStr='valid',\n",
    "                    valid_pct=None, seed:int=None, classes:Collection=None, **kwargs:Any)->'ImageDataBunch':\n",
    "        \"Create from imagenet style dataset in `path` with `train`,`valid`,`test` subfolders (or provide `valid_pct`).\"\n",
    "        path=Path(path)\n",
    "        il = ImageMultiList.from_folder(path)\n",
    "        if valid_pct is None: src = il.split_by_folder(train=train, valid=valid)\n",
    "        else: src = il.split_by_rand_pct(valid_pct, seed)\n",
    "        src = src.label_from_folder(classes=classes)\n",
    "        return cls.create_from_ll(src, **kwargs)"
   ]
  },
  {
   "cell_type": "code",
   "execution_count": 7,
   "metadata": {},
   "outputs": [],
   "source": [
    "data=MultiDataBunch.from_folder(Images, bs=256)"
   ]
  },
  {
   "cell_type": "code",
   "execution_count": 12,
   "metadata": {},
   "outputs": [],
   "source": [
    "resnet34_11_channel=get_arch(101,11)\n",
    "arch=resnet34_11_channel(True)\n",
    "model=Learner(data,arch,metrics=[accuracy], callback_fns=WandbCallback)\n",
    "#model=cnn_learner(data,models.resnet34,metrics=[accuracy])"
   ]
  },
  {
   "cell_type": "code",
   "execution_count": 13,
   "metadata": {},
   "outputs": [
    {
     "data": {
      "text/html": [
       "<iframe src=\"https://app.wandb.ai/akashpalrecha/droughtwatch/runs/tk6oegbu?jupyter=true&state=paused\" style=\"border:none;width:100%;height:420px\">\n",
       "        </iframe>"
      ],
      "text/plain": [
       "<wandb.jupyter.Run at 0x7fbdbf54de50>"
      ]
     },
     "metadata": {},
     "output_type": "display_data"
    },
    {
     "data": {
      "text/html": [
       "<table border=\"1\" class=\"dataframe\">\n",
       "  <thead>\n",
       "    <tr style=\"text-align: left;\">\n",
       "      <th>epoch</th>\n",
       "      <th>train_loss</th>\n",
       "      <th>valid_loss</th>\n",
       "      <th>accuracy</th>\n",
       "      <th>time</th>\n",
       "    </tr>\n",
       "  </thead>\n",
       "  <tbody>\n",
       "    <tr>\n",
       "      <td>0</td>\n",
       "      <td>0.828528</td>\n",
       "      <td>0.885470</td>\n",
       "      <td>0.666172</td>\n",
       "      <td>01:23</td>\n",
       "    </tr>\n",
       "    <tr>\n",
       "      <td>1</td>\n",
       "      <td>0.736149</td>\n",
       "      <td>0.714122</td>\n",
       "      <td>0.729449</td>\n",
       "      <td>01:23</td>\n",
       "    </tr>\n",
       "    <tr>\n",
       "      <td>2</td>\n",
       "      <td>0.585139</td>\n",
       "      <td>0.622434</td>\n",
       "      <td>0.757283</td>\n",
       "      <td>01:23</td>\n",
       "    </tr>\n",
       "  </tbody>\n",
       "</table>"
      ],
      "text/plain": [
       "<IPython.core.display.HTML object>"
      ]
     },
     "metadata": {},
     "output_type": "display_data"
    },
    {
     "name": "stdout",
     "output_type": "stream",
     "text": [
      "Better model found at epoch 0 with valid_loss value: 0.8854697942733765.\n",
      "Better model found at epoch 1 with valid_loss value: 0.7141223549842834.\n",
      "Better model found at epoch 2 with valid_loss value: 0.6224339008331299.\n",
      "Loaded best saved model from /home/ubuntu/droughtwatch/wandb/run-20190903_172806-tk6oegbu/bestmodel.pth\n"
     ]
    }
   ],
   "source": [
    "%%wandb\n",
    "# model.unfreeze()\n",
    "model.fit_one_cycle(3)"
   ]
  },
  {
   "cell_type": "code",
   "execution_count": 14,
   "metadata": {},
   "outputs": [],
   "source": [
    "model.freeze_to(-3)"
   ]
  },
  {
   "cell_type": "code",
   "execution_count": 15,
   "metadata": {},
   "outputs": [
    {
     "data": {
      "text/html": [
       "<table border=\"1\" class=\"dataframe\">\n",
       "  <thead>\n",
       "    <tr style=\"text-align: left;\">\n",
       "      <th>epoch</th>\n",
       "      <th>train_loss</th>\n",
       "      <th>valid_loss</th>\n",
       "      <th>accuracy</th>\n",
       "      <th>time</th>\n",
       "    </tr>\n",
       "  </thead>\n",
       "  <tbody>\n",
       "    <tr>\n",
       "      <td>0</td>\n",
       "      <td>0.866361</td>\n",
       "      <td>10.049053</td>\n",
       "      <td>0.582761</td>\n",
       "      <td>01:23</td>\n",
       "    </tr>\n",
       "    <tr>\n",
       "      <td>1</td>\n",
       "      <td>0.857722</td>\n",
       "      <td>0.973928</td>\n",
       "      <td>0.630636</td>\n",
       "      <td>01:23</td>\n",
       "    </tr>\n",
       "    <tr>\n",
       "      <td>2</td>\n",
       "      <td>0.757022</td>\n",
       "      <td>1.085943</td>\n",
       "      <td>0.639822</td>\n",
       "      <td>01:23</td>\n",
       "    </tr>\n",
       "    <tr>\n",
       "      <td>3</td>\n",
       "      <td>0.657245</td>\n",
       "      <td>0.682040</td>\n",
       "      <td>0.740119</td>\n",
       "      <td>01:23</td>\n",
       "    </tr>\n",
       "    <tr>\n",
       "      <td>4</td>\n",
       "      <td>0.561885</td>\n",
       "      <td>0.652438</td>\n",
       "      <td>0.748655</td>\n",
       "      <td>01:23</td>\n",
       "    </tr>\n",
       "  </tbody>\n",
       "</table>"
      ],
      "text/plain": [
       "<IPython.core.display.HTML object>"
      ]
     },
     "metadata": {},
     "output_type": "display_data"
    },
    {
     "name": "stdout",
     "output_type": "stream",
     "text": [
      "Better model found at epoch 0 with valid_loss value: 10.049053192138672.\n",
      "Better model found at epoch 1 with valid_loss value: 0.9739278554916382.\n",
      "Better model found at epoch 3 with valid_loss value: 0.6820403337478638.\n",
      "Better model found at epoch 4 with valid_loss value: 0.6524384617805481.\n",
      "Loaded best saved model from /home/ubuntu/droughtwatch/wandb/run-20190903_172806-tk6oegbu/bestmodel.pth\n"
     ]
    }
   ],
   "source": [
    "model.fit_one_cycle(5, slice(1e-2))"
   ]
  },
  {
   "cell_type": "code",
   "execution_count": 16,
   "metadata": {},
   "outputs": [],
   "source": [
    "model.unfreeze()"
   ]
  },
  {
   "cell_type": "code",
   "execution_count": 18,
   "metadata": {},
   "outputs": [
    {
     "data": {
      "text/html": [
       "<table border=\"1\" class=\"dataframe\">\n",
       "  <thead>\n",
       "    <tr style=\"text-align: left;\">\n",
       "      <th>epoch</th>\n",
       "      <th>train_loss</th>\n",
       "      <th>valid_loss</th>\n",
       "      <th>accuracy</th>\n",
       "      <th>time</th>\n",
       "    </tr>\n",
       "  </thead>\n",
       "  <tbody>\n",
       "    <tr>\n",
       "      <td>0</td>\n",
       "      <td>0.527574</td>\n",
       "      <td>0.656812</td>\n",
       "      <td>0.748933</td>\n",
       "      <td>01:23</td>\n",
       "    </tr>\n",
       "    <tr>\n",
       "      <td>1</td>\n",
       "      <td>0.537658</td>\n",
       "      <td>0.658219</td>\n",
       "      <td>0.751067</td>\n",
       "      <td>01:23</td>\n",
       "    </tr>\n",
       "    <tr>\n",
       "      <td>2</td>\n",
       "      <td>0.534838</td>\n",
       "      <td>0.721058</td>\n",
       "      <td>0.746335</td>\n",
       "      <td>01:23</td>\n",
       "    </tr>\n",
       "    <tr>\n",
       "      <td>3</td>\n",
       "      <td>0.528771</td>\n",
       "      <td>0.702374</td>\n",
       "      <td>0.739562</td>\n",
       "      <td>01:23</td>\n",
       "    </tr>\n",
       "    <tr>\n",
       "      <td>4</td>\n",
       "      <td>0.508074</td>\n",
       "      <td>0.692996</td>\n",
       "      <td>0.745686</td>\n",
       "      <td>01:22</td>\n",
       "    </tr>\n",
       "    <tr>\n",
       "      <td>5</td>\n",
       "      <td>0.484402</td>\n",
       "      <td>0.717736</td>\n",
       "      <td>0.742067</td>\n",
       "      <td>01:23</td>\n",
       "    </tr>\n",
       "    <tr>\n",
       "      <td>6</td>\n",
       "      <td>0.444775</td>\n",
       "      <td>0.759323</td>\n",
       "      <td>0.740583</td>\n",
       "      <td>01:23</td>\n",
       "    </tr>\n",
       "    <tr>\n",
       "      <td>7</td>\n",
       "      <td>0.401112</td>\n",
       "      <td>0.789606</td>\n",
       "      <td>0.740397</td>\n",
       "      <td>01:23</td>\n",
       "    </tr>\n",
       "    <tr>\n",
       "      <td>8</td>\n",
       "      <td>0.361573</td>\n",
       "      <td>0.793437</td>\n",
       "      <td>0.753387</td>\n",
       "      <td>01:22</td>\n",
       "    </tr>\n",
       "    <tr>\n",
       "      <td>9</td>\n",
       "      <td>0.327547</td>\n",
       "      <td>0.852120</td>\n",
       "      <td>0.750789</td>\n",
       "      <td>01:22</td>\n",
       "    </tr>\n",
       "    <tr>\n",
       "      <td>10</td>\n",
       "      <td>0.291743</td>\n",
       "      <td>0.992420</td>\n",
       "      <td>0.752088</td>\n",
       "      <td>01:23</td>\n",
       "    </tr>\n",
       "    <tr>\n",
       "      <td>11</td>\n",
       "      <td>0.250956</td>\n",
       "      <td>1.114696</td>\n",
       "      <td>0.748469</td>\n",
       "      <td>01:23</td>\n",
       "    </tr>\n",
       "    <tr>\n",
       "      <td>12</td>\n",
       "      <td>0.228115</td>\n",
       "      <td>1.194678</td>\n",
       "      <td>0.746706</td>\n",
       "      <td>01:23</td>\n",
       "    </tr>\n",
       "    <tr>\n",
       "      <td>13</td>\n",
       "      <td>0.198432</td>\n",
       "      <td>1.313010</td>\n",
       "      <td>0.749119</td>\n",
       "      <td>01:22</td>\n",
       "    </tr>\n",
       "    <tr>\n",
       "      <td>14</td>\n",
       "      <td>0.186314</td>\n",
       "      <td>1.342186</td>\n",
       "      <td>0.748005</td>\n",
       "      <td>01:23</td>\n",
       "    </tr>\n",
       "  </tbody>\n",
       "</table>"
      ],
      "text/plain": [
       "<IPython.core.display.HTML object>"
      ]
     },
     "metadata": {},
     "output_type": "display_data"
    },
    {
     "name": "stdout",
     "output_type": "stream",
     "text": [
      "Better model found at epoch 0 with valid_loss value: 0.6568122506141663.\n",
      "Loaded best saved model from /home/ubuntu/droughtwatch/wandb/run-20190903_172806-tk6oegbu/bestmodel.pth\n"
     ]
    }
   ],
   "source": [
    "model.fit_one_cycle(15, slice(3e-3))"
   ]
  },
  {
   "cell_type": "markdown",
   "metadata": {},
   "source": [
    "Okay, so a resnet101 overfits. Clearly. Not doing that anymore. We're done with this one"
   ]
  },
  {
   "cell_type": "markdown",
   "metadata": {},
   "source": [
    "<hr>"
   ]
  },
  {
   "cell_type": "code",
   "execution_count": 22,
   "metadata": {},
   "outputs": [
    {
     "data": {
      "text/html": [
       "\n",
       "        Notebook configured with <a href=\"https://wandb.com\" target=\"_blank\">W&B</a>. You can <a href=\"https://app.wandb.ai/akashpalrecha/droughtwatch/runs/3to0uv3v\" target=\"_blank\">open</a> the run page, or call <code>%%wandb</code>\n",
       "        in a cell containing your training loop to display live results.  Learn more in our <a href=\"https://docs.wandb.com/docs/integrations/jupyter.html\" target=\"_blank\">docs</a>.\n",
       "    "
      ],
      "text/plain": [
       "<IPython.core.display.HTML object>"
      ]
     },
     "metadata": {},
     "output_type": "display_data"
    },
    {
     "data": {
      "text/plain": [
       "W&B Run: https://app.wandb.ai/akashpalrecha/droughtwatch/runs/3to0uv3v"
      ]
     },
     "execution_count": 22,
     "metadata": {},
     "output_type": "execute_result"
    }
   ],
   "source": [
    "wandb.init(project='droughtwatch', name='resnet50-run')"
   ]
  },
  {
   "cell_type": "code",
   "execution_count": 23,
   "metadata": {},
   "outputs": [],
   "source": [
    "resnet50_11_channel=get_arch(50,11)\n",
    "arch=resnet50_11_channel(True)\n",
    "model=Learner(data,arch,metrics=[accuracy], callback_fns=WandbCallback)\n",
    "#for some reason it used resnet18"
   ]
  },
  {
   "cell_type": "code",
   "execution_count": 24,
   "metadata": {},
   "outputs": [
    {
     "data": {
      "text/html": [
       "<table border=\"1\" class=\"dataframe\">\n",
       "  <thead>\n",
       "    <tr style=\"text-align: left;\">\n",
       "      <th>epoch</th>\n",
       "      <th>train_loss</th>\n",
       "      <th>valid_loss</th>\n",
       "      <th>accuracy</th>\n",
       "      <th>time</th>\n",
       "    </tr>\n",
       "  </thead>\n",
       "  <tbody>\n",
       "    <tr>\n",
       "      <td>0</td>\n",
       "      <td>0.819278</td>\n",
       "      <td>0.929013</td>\n",
       "      <td>0.652533</td>\n",
       "      <td>00:26</td>\n",
       "    </tr>\n",
       "    <tr>\n",
       "      <td>1</td>\n",
       "      <td>0.681307</td>\n",
       "      <td>0.703111</td>\n",
       "      <td>0.732140</td>\n",
       "      <td>00:26</td>\n",
       "    </tr>\n",
       "    <tr>\n",
       "      <td>2</td>\n",
       "      <td>0.540884</td>\n",
       "      <td>0.606663</td>\n",
       "      <td>0.763964</td>\n",
       "      <td>00:26</td>\n",
       "    </tr>\n",
       "  </tbody>\n",
       "</table>"
      ],
      "text/plain": [
       "<IPython.core.display.HTML object>"
      ]
     },
     "metadata": {},
     "output_type": "display_data"
    },
    {
     "name": "stdout",
     "output_type": "stream",
     "text": [
      "Better model found at epoch 0 with valid_loss value: 0.9290125966072083.\n",
      "Better model found at epoch 1 with valid_loss value: 0.7031105756759644.\n",
      "Better model found at epoch 2 with valid_loss value: 0.6066631078720093.\n",
      "Loaded best saved model from /home/ubuntu/droughtwatch/wandb/run-20190903_181428-3to0uv3v/bestmodel.pth\n"
     ]
    }
   ],
   "source": [
    "model.fit_one_cycle(3)"
   ]
  },
  {
   "cell_type": "code",
   "execution_count": 25,
   "metadata": {},
   "outputs": [],
   "source": [
    "model.freeze_to(-3)"
   ]
  },
  {
   "cell_type": "code",
   "execution_count": 26,
   "metadata": {},
   "outputs": [
    {
     "data": {
      "text/html": [
       "<table border=\"1\" class=\"dataframe\">\n",
       "  <thead>\n",
       "    <tr style=\"text-align: left;\">\n",
       "      <th>epoch</th>\n",
       "      <th>train_loss</th>\n",
       "      <th>valid_loss</th>\n",
       "      <th>accuracy</th>\n",
       "      <th>time</th>\n",
       "    </tr>\n",
       "  </thead>\n",
       "  <tbody>\n",
       "    <tr>\n",
       "      <td>0</td>\n",
       "      <td>0.762917</td>\n",
       "      <td>105.537399</td>\n",
       "      <td>0.645760</td>\n",
       "      <td>00:27</td>\n",
       "    </tr>\n",
       "    <tr>\n",
       "      <td>1</td>\n",
       "      <td>0.917970</td>\n",
       "      <td>1.280535</td>\n",
       "      <td>0.401466</td>\n",
       "      <td>00:27</td>\n",
       "    </tr>\n",
       "    <tr>\n",
       "      <td>2</td>\n",
       "      <td>0.780340</td>\n",
       "      <td>0.808271</td>\n",
       "      <td>0.699295</td>\n",
       "      <td>00:26</td>\n",
       "    </tr>\n",
       "    <tr>\n",
       "      <td>3</td>\n",
       "      <td>0.657943</td>\n",
       "      <td>0.694838</td>\n",
       "      <td>0.737150</td>\n",
       "      <td>00:26</td>\n",
       "    </tr>\n",
       "    <tr>\n",
       "      <td>4</td>\n",
       "      <td>0.575928</td>\n",
       "      <td>0.645484</td>\n",
       "      <td>0.752459</td>\n",
       "      <td>00:26</td>\n",
       "    </tr>\n",
       "  </tbody>\n",
       "</table>"
      ],
      "text/plain": [
       "<IPython.core.display.HTML object>"
      ]
     },
     "metadata": {},
     "output_type": "display_data"
    },
    {
     "name": "stdout",
     "output_type": "stream",
     "text": [
      "Better model found at epoch 0 with valid_loss value: 105.53739929199219.\n",
      "Better model found at epoch 1 with valid_loss value: 1.280535101890564.\n",
      "Better model found at epoch 2 with valid_loss value: 0.8082706332206726.\n",
      "Better model found at epoch 3 with valid_loss value: 0.6948381066322327.\n",
      "Better model found at epoch 4 with valid_loss value: 0.6454839110374451.\n",
      "Loaded best saved model from /home/ubuntu/droughtwatch/wandb/run-20190903_181428-3to0uv3v/bestmodel.pth\n"
     ]
    }
   ],
   "source": [
    "model.fit_one_cycle(5, slice(1e-2))"
   ]
  },
  {
   "cell_type": "code",
   "execution_count": 27,
   "metadata": {},
   "outputs": [],
   "source": [
    "model.unfreeze()"
   ]
  },
  {
   "cell_type": "code",
   "execution_count": null,
   "metadata": {},
   "outputs": [
    {
     "data": {
      "text/html": [
       "\n",
       "    <div>\n",
       "        <style>\n",
       "            /* Turns off some styling */\n",
       "            progress {\n",
       "                /* gets rid of default border in Firefox and Opera. */\n",
       "                border: none;\n",
       "                /* Needs to be in here for Safari polyfill so background images work as expected. */\n",
       "                background-size: auto;\n",
       "            }\n",
       "            .progress-bar-interrupted, .progress-bar-interrupted::-webkit-progress-bar {\n",
       "                background: #F44336;\n",
       "            }\n",
       "        </style>\n",
       "      <progress value='6' class='' max='15', style='width:300px; height:20px; vertical-align: middle;'></progress>\n",
       "      40.00% [6/15 02:41<04:02]\n",
       "    </div>\n",
       "    \n",
       "<table border=\"1\" class=\"dataframe\">\n",
       "  <thead>\n",
       "    <tr style=\"text-align: left;\">\n",
       "      <th>epoch</th>\n",
       "      <th>train_loss</th>\n",
       "      <th>valid_loss</th>\n",
       "      <th>accuracy</th>\n",
       "      <th>time</th>\n",
       "    </tr>\n",
       "  </thead>\n",
       "  <tbody>\n",
       "    <tr>\n",
       "      <td>0</td>\n",
       "      <td>0.544462</td>\n",
       "      <td>0.657609</td>\n",
       "      <td>0.754778</td>\n",
       "      <td>00:26</td>\n",
       "    </tr>\n",
       "    <tr>\n",
       "      <td>1</td>\n",
       "      <td>0.540697</td>\n",
       "      <td>0.658020</td>\n",
       "      <td>0.750881</td>\n",
       "      <td>00:26</td>\n",
       "    </tr>\n",
       "    <tr>\n",
       "      <td>2</td>\n",
       "      <td>0.551468</td>\n",
       "      <td>0.736394</td>\n",
       "      <td>0.719150</td>\n",
       "      <td>00:26</td>\n",
       "    </tr>\n",
       "    <tr>\n",
       "      <td>3</td>\n",
       "      <td>0.549219</td>\n",
       "      <td>0.739040</td>\n",
       "      <td>0.717573</td>\n",
       "      <td>00:26</td>\n",
       "    </tr>\n",
       "    <tr>\n",
       "      <td>4</td>\n",
       "      <td>0.523843</td>\n",
       "      <td>0.681697</td>\n",
       "      <td>0.748840</td>\n",
       "      <td>00:26</td>\n",
       "    </tr>\n",
       "    <tr>\n",
       "      <td>5</td>\n",
       "      <td>0.485416</td>\n",
       "      <td>0.777854</td>\n",
       "      <td>0.697810</td>\n",
       "      <td>00:26</td>\n",
       "    </tr>\n",
       "  </tbody>\n",
       "</table><p>\n",
       "\n",
       "    <div>\n",
       "        <style>\n",
       "            /* Turns off some styling */\n",
       "            progress {\n",
       "                /* gets rid of default border in Firefox and Opera. */\n",
       "                border: none;\n",
       "                /* Needs to be in here for Safari polyfill so background images work as expected. */\n",
       "                background-size: auto;\n",
       "            }\n",
       "            .progress-bar-interrupted, .progress-bar-interrupted::-webkit-progress-bar {\n",
       "                background: #F44336;\n",
       "            }\n",
       "        </style>\n",
       "      <progress value='74' class='' max='337', style='width:300px; height:20px; vertical-align: middle;'></progress>\n",
       "      21.96% [74/337 00:05<00:20 0.4326]\n",
       "    </div>\n",
       "    "
      ],
      "text/plain": [
       "<IPython.core.display.HTML object>"
      ]
     },
     "metadata": {},
     "output_type": "display_data"
    },
    {
     "name": "stdout",
     "output_type": "stream",
     "text": [
      "Better model found at epoch 0 with valid_loss value: 0.6576094031333923.\n"
     ]
    }
   ],
   "source": [
    "model.fit_one_cycle(15, slice(3e-3))"
   ]
  },
  {
   "cell_type": "code",
   "execution_count": null,
   "metadata": {},
   "outputs": [],
   "source": []
  }
 ],
 "metadata": {
  "kernelspec": {
   "display_name": "Environment (conda_fastai)",
   "language": "python",
   "name": "conda_fastai"
  },
  "language_info": {
   "codemirror_mode": {
    "name": "ipython",
    "version": 3
   },
   "file_extension": ".py",
   "mimetype": "text/x-python",
   "name": "python",
   "nbconvert_exporter": "python",
   "pygments_lexer": "ipython3",
   "version": "3.7.4"
  }
 },
 "nbformat": 4,
 "nbformat_minor": 2
}
